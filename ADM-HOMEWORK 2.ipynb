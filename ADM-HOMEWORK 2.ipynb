{
 "cells": [
  {
   "cell_type": "code",
   "execution_count": 43,
   "id": "e093893a",
   "metadata": {},
   "outputs": [],
   "source": [
    "import pandas as pd\n",
    "import numpy as np\n",
    "from sklearn.model_selection import train_test_split\n",
    "from sklearn.preprocessing import LabelEncoder, StandardScaler\n",
    "from sklearn.svm import SVC\n",
    "from sklearn.metrics import accuracy_score"
   ]
  },
  {
   "cell_type": "code",
   "execution_count": 44,
   "id": "55f17c2d",
   "metadata": {},
   "outputs": [
    {
     "data": {
      "text/html": [
       "<div>\n",
       "<style scoped>\n",
       "    .dataframe tbody tr th:only-of-type {\n",
       "        vertical-align: middle;\n",
       "    }\n",
       "\n",
       "    .dataframe tbody tr th {\n",
       "        vertical-align: top;\n",
       "    }\n",
       "\n",
       "    .dataframe thead th {\n",
       "        text-align: right;\n",
       "    }\n",
       "</style>\n",
       "<table border=\"1\" class=\"dataframe\">\n",
       "  <thead>\n",
       "    <tr style=\"text-align: right;\">\n",
       "      <th></th>\n",
       "      <th>buying</th>\n",
       "      <th>maintenance</th>\n",
       "      <th>doors</th>\n",
       "      <th>persons</th>\n",
       "      <th>lug_boot</th>\n",
       "      <th>safety</th>\n",
       "      <th>label</th>\n",
       "    </tr>\n",
       "  </thead>\n",
       "  <tbody>\n",
       "    <tr>\n",
       "      <th>0</th>\n",
       "      <td>3</td>\n",
       "      <td>3</td>\n",
       "      <td>4</td>\n",
       "      <td>2</td>\n",
       "      <td>2</td>\n",
       "      <td>3</td>\n",
       "      <td>0</td>\n",
       "    </tr>\n",
       "    <tr>\n",
       "      <th>1</th>\n",
       "      <td>2</td>\n",
       "      <td>1</td>\n",
       "      <td>2</td>\n",
       "      <td>4</td>\n",
       "      <td>2</td>\n",
       "      <td>2</td>\n",
       "      <td>1</td>\n",
       "    </tr>\n",
       "    <tr>\n",
       "      <th>2</th>\n",
       "      <td>3</td>\n",
       "      <td>3</td>\n",
       "      <td>5</td>\n",
       "      <td>2</td>\n",
       "      <td>3</td>\n",
       "      <td>2</td>\n",
       "      <td>0</td>\n",
       "    </tr>\n",
       "    <tr>\n",
       "      <th>3</th>\n",
       "      <td>1</td>\n",
       "      <td>3</td>\n",
       "      <td>5</td>\n",
       "      <td>4</td>\n",
       "      <td>2</td>\n",
       "      <td>2</td>\n",
       "      <td>1</td>\n",
       "    </tr>\n",
       "    <tr>\n",
       "      <th>4</th>\n",
       "      <td>2</td>\n",
       "      <td>1</td>\n",
       "      <td>4</td>\n",
       "      <td>5</td>\n",
       "      <td>2</td>\n",
       "      <td>1</td>\n",
       "      <td>0</td>\n",
       "    </tr>\n",
       "  </tbody>\n",
       "</table>\n",
       "</div>"
      ],
      "text/plain": [
       "   buying  maintenance  doors  persons  lug_boot  safety  label\n",
       "0       3            3      4        2         2       3      0\n",
       "1       2            1      2        4         2       2      1\n",
       "2       3            3      5        2         3       2      0\n",
       "3       1            3      5        4         2       2      1\n",
       "4       2            1      4        5         2       1      0"
      ]
     },
     "execution_count": 44,
     "metadata": {},
     "output_type": "execute_result"
    }
   ],
   "source": [
    "# Load the dataset\n",
    "file_path = \"car_evaluation.csv\" \n",
    "df = pd.read_csv(file_path)\n",
    "\n",
    "# Shuffle the dataset with random seed 42\n",
    "df = df.sample(frac=1, random_state=42).reset_index(drop=True)\n",
    "\n",
    "df.head()\n"
   ]
  },
  {
   "cell_type": "code",
   "execution_count": 45,
   "id": "471d147f",
   "metadata": {},
   "outputs": [
    {
     "data": {
      "text/html": [
       "<div>\n",
       "<style scoped>\n",
       "    .dataframe tbody tr th:only-of-type {\n",
       "        vertical-align: middle;\n",
       "    }\n",
       "\n",
       "    .dataframe tbody tr th {\n",
       "        vertical-align: top;\n",
       "    }\n",
       "\n",
       "    .dataframe thead th {\n",
       "        text-align: right;\n",
       "    }\n",
       "</style>\n",
       "<table border=\"1\" class=\"dataframe\">\n",
       "  <thead>\n",
       "    <tr style=\"text-align: right;\">\n",
       "      <th></th>\n",
       "      <th>buying</th>\n",
       "      <th>maintenance</th>\n",
       "      <th>doors</th>\n",
       "      <th>persons</th>\n",
       "      <th>lug_boot</th>\n",
       "      <th>safety</th>\n",
       "    </tr>\n",
       "  </thead>\n",
       "  <tbody>\n",
       "    <tr>\n",
       "      <th>0</th>\n",
       "      <td>2</td>\n",
       "      <td>2</td>\n",
       "      <td>2</td>\n",
       "      <td>0</td>\n",
       "      <td>1</td>\n",
       "      <td>2</td>\n",
       "    </tr>\n",
       "    <tr>\n",
       "      <th>1</th>\n",
       "      <td>1</td>\n",
       "      <td>0</td>\n",
       "      <td>0</td>\n",
       "      <td>1</td>\n",
       "      <td>1</td>\n",
       "      <td>1</td>\n",
       "    </tr>\n",
       "    <tr>\n",
       "      <th>2</th>\n",
       "      <td>2</td>\n",
       "      <td>2</td>\n",
       "      <td>3</td>\n",
       "      <td>0</td>\n",
       "      <td>2</td>\n",
       "      <td>1</td>\n",
       "    </tr>\n",
       "    <tr>\n",
       "      <th>3</th>\n",
       "      <td>0</td>\n",
       "      <td>2</td>\n",
       "      <td>3</td>\n",
       "      <td>1</td>\n",
       "      <td>1</td>\n",
       "      <td>1</td>\n",
       "    </tr>\n",
       "    <tr>\n",
       "      <th>4</th>\n",
       "      <td>1</td>\n",
       "      <td>0</td>\n",
       "      <td>2</td>\n",
       "      <td>2</td>\n",
       "      <td>1</td>\n",
       "      <td>0</td>\n",
       "    </tr>\n",
       "  </tbody>\n",
       "</table>\n",
       "</div>"
      ],
      "text/plain": [
       "   buying  maintenance  doors  persons  lug_boot  safety\n",
       "0       2            2      2        0         1       2\n",
       "1       1            0      0        1         1       1\n",
       "2       2            2      3        0         2       1\n",
       "3       0            2      3        1         1       1\n",
       "4       1            0      2        2         1       0"
      ]
     },
     "execution_count": 45,
     "metadata": {},
     "output_type": "execute_result"
    }
   ],
   "source": [
    "# Convert categorical features into numerical values using Label Encoding\n",
    "encoder = LabelEncoder()\n",
    "X = df.drop(columns=['label']).apply(encoder.fit_transform)\n",
    "y = df['label']\n",
    "\n",
    "X.head()\n"
   ]
  },
  {
   "cell_type": "code",
   "execution_count": 46,
   "id": "5a03769f",
   "metadata": {},
   "outputs": [
    {
     "data": {
      "text/plain": [
       "((1036, 6), (346, 6), (346, 6))"
      ]
     },
     "execution_count": 46,
     "metadata": {},
     "output_type": "execute_result"
    }
   ],
   "source": [
    "# Split into Train (60%), Validation (20%), and Test (20%)\n",
    "X_train, X_temp, y_train, y_temp = train_test_split(X, y, test_size=0.4, random_state=42)\n",
    "X_val, X_test, y_val, y_test = train_test_split(X_temp, y_temp, test_size=0.5, random_state=42)\n",
    "\n",
    "# Display the shape of each split\n",
    "X_train.shape, X_val.shape, X_test.shape\n"
   ]
  },
  {
   "cell_type": "code",
   "execution_count": 47,
   "id": "d167a203",
   "metadata": {},
   "outputs": [],
   "source": [
    "scaler = StandardScaler()\n",
    "X_train_scaled = scaler.fit_transform(X_train)\n",
    "X_val_scaled = scaler.transform(X_val)\n",
    "X_test_scaled = scaler.transform(X_test)\n"
   ]
  },
  {
   "cell_type": "code",
   "execution_count": 48,
   "id": "9b230655",
   "metadata": {},
   "outputs": [
    {
     "data": {
      "text/plain": [
       "SVC(random_state=42)"
      ]
     },
     "execution_count": 48,
     "metadata": {},
     "output_type": "execute_result"
    }
   ],
   "source": [
    "# Train an SVM classifier with C=1.0\n",
    "svm_model = SVC(C=1.0, kernel='rbf', random_state=42)\n",
    "svm_model.fit(X_train_scaled, y_train)"
   ]
  },
  {
   "cell_type": "code",
   "execution_count": 49,
   "id": "10596f7c",
   "metadata": {},
   "outputs": [
    {
     "name": "stdout",
     "output_type": "stream",
     "text": [
      "Training Accuracy: 0.9788\n",
      "Validation Accuracy: 0.9566\n",
      "Test Accuracy: 0.9480\n"
     ]
    }
   ],
   "source": [
    "# Get predictions\n",
    "y_train_pred = svm_model.predict(X_train_scaled)\n",
    "y_val_pred = svm_model.predict(X_val_scaled)\n",
    "y_test_pred = svm_model.predict(X_test_scaled)\n",
    "\n",
    "# Calculate accuracy\n",
    "train_accuracy = accuracy_score(y_train, y_train_pred)\n",
    "val_accuracy = accuracy_score(y_val, y_val_pred)\n",
    "test_accuracy = accuracy_score(y_test, y_test_pred)\n",
    "\n",
    "print(f\"Training Accuracy: {train_accuracy:.4f}\")\n",
    "print(f\"Validation Accuracy: {val_accuracy:.4f}\")\n",
    "print(f\"Test Accuracy: {test_accuracy:.4f}\")\n"
   ]
  },
  {
   "cell_type": "code",
   "execution_count": 50,
   "id": "6d00f1f8",
   "metadata": {},
   "outputs": [
    {
     "data": {
      "text/plain": [
       "array([1.e-03, 1.e-02, 1.e-01, 1.e+00, 1.e+01, 1.e+02, 1.e+03])"
      ]
     },
     "execution_count": 50,
     "metadata": {},
     "output_type": "execute_result"
    }
   ],
   "source": [
    "#b.\n",
    "import numpy as np\n",
    "\n",
    "# Define the range of C values: {10^-3, 10^-2, ..., 10^2, 10^3}\n",
    "C_values = np.logspace(-3, 3, num=7)\n",
    "C_values\n"
   ]
  },
  {
   "cell_type": "code",
   "execution_count": 51,
   "id": "4e15a5d8",
   "metadata": {},
   "outputs": [
    {
     "name": "stdout",
     "output_type": "stream",
     "text": [
      "C=0.0010 | Train Acc: 0.7114 | Val Acc: 0.6850 | Test Acc: 0.6821\n",
      "C=0.0100 | Train Acc: 0.7114 | Val Acc: 0.6850 | Test Acc: 0.6821\n",
      "C=0.1000 | Train Acc: 0.8600 | Val Acc: 0.8613 | Test Acc: 0.8295\n",
      "C=1.0000 | Train Acc: 0.9788 | Val Acc: 0.9566 | Test Acc: 0.9480\n",
      "C=10.0000 | Train Acc: 0.9952 | Val Acc: 0.9798 | Test Acc: 0.9855\n",
      "C=100.0000 | Train Acc: 0.9990 | Val Acc: 0.9769 | Test Acc: 0.9711\n",
      "C=1000.0000 | Train Acc: 1.0000 | Val Acc: 0.9827 | Test Acc: 0.9769\n"
     ]
    }
   ],
   "source": [
    "\n",
    "\n",
    "# Lists to store accuracy results\n",
    "train_accuracies = []\n",
    "val_accuracies = []\n",
    "test_accuracies = []\n",
    "\n",
    "# Train SVM with different values of C\n",
    "for C in C_values:\n",
    "    svm_model = SVC(C=C, kernel='rbf', random_state=42)\n",
    "    svm_model.fit(X_train_scaled, y_train)\n",
    "\n",
    "    # Get predictions\n",
    "    y_train_pred = svm_model.predict(X_train_scaled)\n",
    "    y_val_pred = svm_model.predict(X_val_scaled)\n",
    "    y_test_pred = svm_model.predict(X_test_scaled)\n",
    "\n",
    "    # Compute accuracy\n",
    "    train_accuracies.append(accuracy_score(y_train, y_train_pred))\n",
    "    val_accuracies.append(accuracy_score(y_val, y_val_pred))\n",
    "    test_accuracies.append(accuracy_score(y_test, y_test_pred))\n",
    "\n",
    "# Print accuracy results for each C value\n",
    "for i, C in enumerate(C_values):\n",
    "    print(f\"C={C:.4f} | Train Acc: {train_accuracies[i]:.4f} | Val Acc: {val_accuracies[i]:.4f} | Test Acc: {test_accuracies[i]:.4f}\")\n"
   ]
  },
  {
   "cell_type": "code",
   "execution_count": 52,
   "id": "538771c0",
   "metadata": {},
   "outputs": [
    {
     "data": {
      "image/png": "[encoded data removed]",
      "text/plain": [
       "<Figure size 576x432 with 1 Axes>"
      ]
     },
     "metadata": {
      "needs_background": "light"
     },
     "output_type": "display_data"
    }
   ],
   "source": [
    "import matplotlib.pyplot as plt\n",
    "\n",
    "# Plot accuracy for different C values\n",
    "plt.figure(figsize=(8, 6))\n",
    "plt.plot(C_values, train_accuracies, label=\"Train Accuracy\", marker=\"o\")\n",
    "plt.plot(C_values, val_accuracies, label=\"Validation Accuracy\", marker=\"s\")\n",
    "plt.plot(C_values, test_accuracies, label=\"Test Accuracy\", marker=\"x\")\n",
    "\n",
    "# Log scale for x-axis (C values)\n",
    "plt.xscale(\"log\")\n",
    "plt.xlabel(\"C value (log scale)\")\n",
    "plt.ylabel(\"Accuracy\")\n",
    "plt.title(\"SVM Accuracy vs C values\")\n",
    "plt.legend()\n",
    "plt.grid(True)\n",
    "plt.show()\n"
   ]
  },
  {
   "cell_type": "code",
   "execution_count": 53,
   "id": "a3e872fe",
   "metadata": {},
   "outputs": [
    {
     "name": "stdout",
     "output_type": "stream",
     "text": [
      "The best generalization performance is achieved at C=1000.0000, with Validation Accuracy: 0.9827 and Test Accuracy: 0.9769.\n"
     ]
    }
   ],
   "source": [
    "# Find the best C value based on validation accuracy\n",
    "best_C_index = np.argmax(val_accuracies)\n",
    "best_C = C_values[best_C_index]\n",
    "\n",
    "print(f\"The best generalization performance is achieved at C={best_C:.4f}, \"\n",
    "      f\"with Validation Accuracy: {val_accuracies[best_C_index]:.4f} and Test Accuracy: {test_accuracies[best_C_index]:.4f}.\")\n"
   ]
  },
  {
   "cell_type": "code",
   "execution_count": 54,
   "id": "fbe858bd",
   "metadata": {},
   "outputs": [],
   "source": [
    "#2 QUESTION \n",
    "from sklearn.model_selection import train_test_split\n",
    "from sklearn.tree import DecisionTreeClassifier\n",
    "from sklearn.metrics import confusion_matrix, classification_report"
   ]
  },
  {
   "cell_type": "code",
   "execution_count": 55,
   "id": "27d904bb",
   "metadata": {},
   "outputs": [
    {
     "data": {
      "text/html": [
       "<div>\n",
       "<style scoped>\n",
       "    .dataframe tbody tr th:only-of-type {\n",
       "        vertical-align: middle;\n",
       "    }\n",
       "\n",
       "    .dataframe tbody tr th {\n",
       "        vertical-align: top;\n",
       "    }\n",
       "\n",
       "    .dataframe thead th {\n",
       "        text-align: right;\n",
       "    }\n",
       "</style>\n",
       "<table border=\"1\" class=\"dataframe\">\n",
       "  <thead>\n",
       "    <tr style=\"text-align: right;\">\n",
       "      <th></th>\n",
       "      <th>fixed acidity</th>\n",
       "      <th>volatile acidity</th>\n",
       "      <th>citric acid</th>\n",
       "      <th>residual sugar</th>\n",
       "      <th>chlorides</th>\n",
       "      <th>free sulfur dioxide</th>\n",
       "      <th>total sulfur dioxide</th>\n",
       "      <th>density</th>\n",
       "      <th>pH</th>\n",
       "      <th>sulphates</th>\n",
       "      <th>alcohol</th>\n",
       "      <th>quality</th>\n",
       "    </tr>\n",
       "  </thead>\n",
       "  <tbody>\n",
       "    <tr>\n",
       "      <th>0</th>\n",
       "      <td>7.7</td>\n",
       "      <td>0.56</td>\n",
       "      <td>0.08</td>\n",
       "      <td>2.50</td>\n",
       "      <td>0.114</td>\n",
       "      <td>14.0</td>\n",
       "      <td>46.0</td>\n",
       "      <td>0.9971</td>\n",
       "      <td>3.24</td>\n",
       "      <td>0.66</td>\n",
       "      <td>9.6</td>\n",
       "      <td>6</td>\n",
       "    </tr>\n",
       "    <tr>\n",
       "      <th>1</th>\n",
       "      <td>7.8</td>\n",
       "      <td>0.50</td>\n",
       "      <td>0.17</td>\n",
       "      <td>1.60</td>\n",
       "      <td>0.082</td>\n",
       "      <td>21.0</td>\n",
       "      <td>102.0</td>\n",
       "      <td>0.9960</td>\n",
       "      <td>3.39</td>\n",
       "      <td>0.48</td>\n",
       "      <td>9.5</td>\n",
       "      <td>5</td>\n",
       "    </tr>\n",
       "    <tr>\n",
       "      <th>2</th>\n",
       "      <td>10.7</td>\n",
       "      <td>0.67</td>\n",
       "      <td>0.22</td>\n",
       "      <td>2.70</td>\n",
       "      <td>0.107</td>\n",
       "      <td>17.0</td>\n",
       "      <td>34.0</td>\n",
       "      <td>1.0004</td>\n",
       "      <td>3.28</td>\n",
       "      <td>0.98</td>\n",
       "      <td>9.9</td>\n",
       "      <td>6</td>\n",
       "    </tr>\n",
       "    <tr>\n",
       "      <th>3</th>\n",
       "      <td>8.5</td>\n",
       "      <td>0.46</td>\n",
       "      <td>0.31</td>\n",
       "      <td>2.25</td>\n",
       "      <td>0.078</td>\n",
       "      <td>32.0</td>\n",
       "      <td>58.0</td>\n",
       "      <td>0.9980</td>\n",
       "      <td>3.33</td>\n",
       "      <td>0.54</td>\n",
       "      <td>9.8</td>\n",
       "      <td>5</td>\n",
       "    </tr>\n",
       "    <tr>\n",
       "      <th>4</th>\n",
       "      <td>6.7</td>\n",
       "      <td>0.46</td>\n",
       "      <td>0.24</td>\n",
       "      <td>1.70</td>\n",
       "      <td>0.077</td>\n",
       "      <td>18.0</td>\n",
       "      <td>34.0</td>\n",
       "      <td>0.9948</td>\n",
       "      <td>3.39</td>\n",
       "      <td>0.60</td>\n",
       "      <td>10.6</td>\n",
       "      <td>6</td>\n",
       "    </tr>\n",
       "  </tbody>\n",
       "</table>\n",
       "</div>"
      ],
      "text/plain": [
       "   fixed acidity  volatile acidity  citric acid  residual sugar  chlorides  \\\n",
       "0            7.7              0.56         0.08            2.50      0.114   \n",
       "1            7.8              0.50         0.17            1.60      0.082   \n",
       "2           10.7              0.67         0.22            2.70      0.107   \n",
       "3            8.5              0.46         0.31            2.25      0.078   \n",
       "4            6.7              0.46         0.24            1.70      0.077   \n",
       "\n",
       "   free sulfur dioxide  total sulfur dioxide  density    pH  sulphates  \\\n",
       "0                 14.0                  46.0   0.9971  3.24       0.66   \n",
       "1                 21.0                 102.0   0.9960  3.39       0.48   \n",
       "2                 17.0                  34.0   1.0004  3.28       0.98   \n",
       "3                 32.0                  58.0   0.9980  3.33       0.54   \n",
       "4                 18.0                  34.0   0.9948  3.39       0.60   \n",
       "\n",
       "   alcohol  quality  \n",
       "0      9.6        6  \n",
       "1      9.5        5  \n",
       "2      9.9        6  \n",
       "3      9.8        5  \n",
       "4     10.6        6  "
      ]
     },
     "execution_count": 55,
     "metadata": {},
     "output_type": "execute_result"
    }
   ],
   "source": [
    "# Load the dataset\n",
    "file_path = \"wine.csv\"  # Ensure this file is in the same directory\n",
    "df = pd.read_csv(file_path)\n",
    "\n",
    "# Shuffle the dataset with random seed 42\n",
    "df = df.sample(frac=1, random_state=42).reset_index(drop=True)\n",
    "\n",
    "# Display the first few rows\n",
    "df.head()\n"
   ]
  },
  {
   "cell_type": "code",
   "execution_count": 56,
   "id": "32c3ba13",
   "metadata": {},
   "outputs": [
    {
     "data": {
      "text/plain": [
       "((1119, 11), (480, 11))"
      ]
     },
     "execution_count": 56,
     "metadata": {},
     "output_type": "execute_result"
    }
   ],
   "source": [
    "# Define features (X) and target (y)\n",
    "X = df.drop(columns=['quality'])  # All columns except 'quality'\n",
    "y = df['quality']  # Target variable\n",
    "\n",
    "# Split into Training (70%) and Test (30%) sets\n",
    "X_train, X_test, y_train, y_test = train_test_split(X, y, test_size=0.3, random_state=42)\n",
    "\n",
    "\n",
    "X_train.shape, X_test.shape\n"
   ]
  },
  {
   "cell_type": "code",
   "execution_count": 57,
   "id": "7e748b3a",
   "metadata": {},
   "outputs": [
    {
     "data": {
      "text/plain": [
       "DecisionTreeClassifier(random_state=42)"
      ]
     },
     "execution_count": 57,
     "metadata": {},
     "output_type": "execute_result"
    }
   ],
   "source": [
    "# Train a Decision Tree classifier\n",
    "dt_model = DecisionTreeClassifier(random_state=42)\n",
    "dt_model.fit(X_train, y_train)\n"
   ]
  },
  {
   "cell_type": "code",
   "execution_count": 58,
   "id": "e016e1de",
   "metadata": {},
   "outputs": [
    {
     "name": "stdout",
     "output_type": "stream",
     "text": [
      "Confusion Matrix:\n",
      " [[  1   1   0   2   0   0]\n",
      " [  0   3   5   8   0   0]\n",
      " [  0   8 128  57   7   0]\n",
      " [  0   0  48 123  17   3]\n",
      " [  0   0   7  21  34   3]\n",
      " [  0   0   1   2   1   0]]\n"
     ]
    }
   ],
   "source": [
    "# Get predictions on the test set\n",
    "y_pred = dt_model.predict(X_test)\n",
    "\n",
    "# Compute Confusion Matrix\n",
    "conf_matrix = confusion_matrix(y_test, y_pred)\n",
    "\n",
    "# Extract TP, FP, TN, FN from Confusion Matrix\n",
    "tn, fp, fn, tp = conf_matrix.ravel() if conf_matrix.size == 4 else (None, None, None, None)  # Handle multi-class cases\n",
    "print(\"Confusion Matrix:\\n\", conf_matrix)\n",
    "\n",
    "# Display extracted values if binary classification\n",
    "if tn is not None:\n",
    "    print(f\"True Positives (TP): {tp}\")\n",
    "    print(f\"False Positives (FP): {fp}\")\n",
    "    print(f\"True Negatives (TN): {tn}\")\n",
    "    print(f\"False Negatives (FN): {fn}\")\n"
   ]
  },
  {
   "cell_type": "code",
   "execution_count": 59,
   "id": "79c05db7",
   "metadata": {},
   "outputs": [
    {
     "name": "stdout",
     "output_type": "stream",
     "text": [
      "Classification Report:\n",
      "               precision    recall  f1-score   support\n",
      "\n",
      "           3       1.00      0.25      0.40         4\n",
      "           4       0.25      0.19      0.21        16\n",
      "           5       0.68      0.64      0.66       200\n",
      "           6       0.58      0.64      0.61       191\n",
      "           7       0.58      0.52      0.55        65\n",
      "           8       0.00      0.00      0.00         4\n",
      "\n",
      "    accuracy                           0.60       480\n",
      "   macro avg       0.51      0.37      0.40       480\n",
      "weighted avg       0.61      0.60      0.60       480\n",
      "\n"
     ]
    }
   ],
   "source": [
    "# Generate classification report\n",
    "report = classification_report(y_test, y_pred)\n",
    "print(\"Classification Report:\\n\", report)\n"
   ]
  },
  {
   "cell_type": "code",
   "execution_count": 60,
   "id": "b3b8bf07",
   "metadata": {},
   "outputs": [],
   "source": [
    "#B \n",
    "from sklearn.ensemble import RandomForestClassifier\n",
    "from sklearn.metrics import confusion_matrix, classification_report"
   ]
  },
  {
   "cell_type": "code",
   "execution_count": 61,
   "id": "15474ed0",
   "metadata": {},
   "outputs": [
    {
     "data": {
      "text/plain": [
       "RandomForestClassifier(random_state=42)"
      ]
     },
     "execution_count": 61,
     "metadata": {},
     "output_type": "execute_result"
    }
   ],
   "source": [
    "# Train a Random Forest classifier\n",
    "rf_model = RandomForestClassifier(n_estimators=100, random_state=42)\n",
    "rf_model.fit(X_train, y_train)"
   ]
  },
  {
   "cell_type": "code",
   "execution_count": 62,
   "id": "69aae6f3",
   "metadata": {},
   "outputs": [
    {
     "name": "stdout",
     "output_type": "stream",
     "text": [
      "Confusion Matrix (Random Forest):\n",
      " [[  0   0   4   0   0   0]\n",
      " [  0   1  12   3   0   0]\n",
      " [  0   0 155  44   1   0]\n",
      " [  0   0  47 136   8   0]\n",
      " [  0   0   2  29  33   1]\n",
      " [  0   0   0   2   2   0]]\n"
     ]
    }
   ],
   "source": [
    "# Get predictions on the test set\n",
    "y_pred_rf = rf_model.predict(X_test)\n",
    "\n",
    "# Compute Confusion Matrix\n",
    "conf_matrix_rf = confusion_matrix(y_test, y_pred_rf)\n",
    "\n",
    "# Extract TP, FP, TN, FN from Confusion Matrix (if binary classification)\n",
    "tn_rf, fp_rf, fn_rf, tp_rf = conf_matrix_rf.ravel() if conf_matrix_rf.size == 4 else (None, None, None, None)\n",
    "\n",
    "print(\"Confusion Matrix (Random Forest):\\n\", conf_matrix_rf)\n",
    "\n",
    "# Display extracted values if binary classification\n",
    "if tn_rf is not None:\n",
    "    print(f\"True Positives (TP): {tp_rf}\")\n",
    "    print(f\"False Positives (FP): {fp_rf}\")\n",
    "    print(f\"True Negatives (TN): {tn_rf}\")\n",
    "    print(f\"False Negatives (FN): {fn_rf}\")\n"
   ]
  },
  {
   "cell_type": "code",
   "execution_count": 63,
   "id": "91c71aa1",
   "metadata": {},
   "outputs": [
    {
     "name": "stdout",
     "output_type": "stream",
     "text": [
      "Classification Report (Random Forest):\n",
      "               precision    recall  f1-score   support\n",
      "\n",
      "           3       1.00      0.00      0.00         4\n",
      "           4       1.00      0.06      0.12        16\n",
      "           5       0.70      0.78      0.74       200\n",
      "           6       0.64      0.71      0.67       191\n",
      "           7       0.75      0.51      0.61        65\n",
      "           8       0.00      0.00      0.00         4\n",
      "\n",
      "    accuracy                           0.68       480\n",
      "   macro avg       0.68      0.34      0.36       480\n",
      "weighted avg       0.69      0.68      0.66       480\n",
      "\n"
     ]
    }
   ],
   "source": [
    "# Generate classification report with zero_division handling to prevent warnings\n",
    "report_rf = classification_report(y_test, y_pred_rf, zero_division=1)\n",
    "print(\"Classification Report (Random Forest):\\n\", report_rf)"
   ]
  },
  {
   "cell_type": "code",
   "execution_count": null,
   "id": "8d8b5264",
   "metadata": {},
   "outputs": [],
   "source": []
  },
  {
   "cell_type": "code",
   "execution_count": null,
   "id": "69512313",
   "metadata": {},
   "outputs": [],
   "source": []
  }
 ],
 "metadata": {
  "kernelspec": {
   "display_name": "Python 3 (ipykernel)",
   "language": "python",
   "name": "python3"
  },
  "language_info": {
   "codemirror_mode": {
    "name": "ipython",
    "version": 3
   },
   "file_extension": ".py",
   "mimetype": "text/x-python",
   "name": "python",
   "nbconvert_exporter": "python",
   "pygments_lexer": "ipython3",
   "version": "3.9.12"
  }
 },
 "nbformat": 4,
 "nbformat_minor": 5
}
